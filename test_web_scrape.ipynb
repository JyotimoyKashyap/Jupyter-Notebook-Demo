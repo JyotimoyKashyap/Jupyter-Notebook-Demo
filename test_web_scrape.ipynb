{
  "nbformat": 4,
  "nbformat_minor": 0,
  "metadata": {
    "colab": {
      "name": "test_web_scrape.ipynb",
      "provenance": [],
      "authorship_tag": "ABX9TyP2vzVXWStQF73022xrjHSG",
      "include_colab_link": true
    },
    "kernelspec": {
      "name": "python3",
      "display_name": "Python 3"
    },
    "language_info": {
      "name": "python"
    }
  },
  "cells": [
    {
      "cell_type": "markdown",
      "metadata": {
        "id": "view-in-github",
        "colab_type": "text"
      },
      "source": [
        "<a href=\"https://colab.research.google.com/github/JyotimoyKashyap/Jupyter-Notebook-Demo/blob/main/test_web_scrape.ipynb\" target=\"_parent\"><img src=\"https://colab.research.google.com/assets/colab-badge.svg\" alt=\"Open In Colab\"/></a>"
      ]
    },
    {
      "cell_type": "markdown",
      "metadata": {
        "id": "zt3uOtL_VIWq"
      },
      "source": [
        "## **Web Scraper Practice**\n",
        "\n",
        "This is just a test website which I will scrap to practice."
      ]
    },
    {
      "cell_type": "code",
      "metadata": {
        "colab": {
          "base_uri": "https://localhost:8080/",
          "height": 0
        },
        "id": "L1ukatHAULwf",
        "outputId": "3068ece2-ab6d-4bd3-957c-e11d31b9f297"
      },
      "source": [
        "!pip install bs4"
      ],
      "execution_count": 1,
      "outputs": [
        {
          "output_type": "stream",
          "name": "stdout",
          "text": [
            "Requirement already satisfied: bs4 in /usr/local/lib/python3.7/dist-packages (0.0.1)\n",
            "Requirement already satisfied: beautifulsoup4 in /usr/local/lib/python3.7/dist-packages (from bs4) (4.6.3)\n"
          ]
        }
      ]
    },
    {
      "cell_type": "markdown",
      "metadata": {
        "id": "iMJDkrWFVm6y"
      },
      "source": [
        "Imported the Beautiful Soup library, Requests library and Pandas library"
      ]
    },
    {
      "cell_type": "code",
      "metadata": {
        "id": "Gwin1hq_VWtY"
      },
      "source": [
        "from bs4 import BeautifulSoup\n",
        "import requests\n",
        "import pandas as pd"
      ],
      "execution_count": 7,
      "outputs": []
    },
    {
      "cell_type": "markdown",
      "source": [
        "Below we are storing the url in a url variable and then requesting the data of the url using request library and then pass that data to the BeautifulSoup constructor which converts it into a unicode. "
      ],
      "metadata": {
        "id": "2jSWFDsbO-1i"
      }
    },
    {
      "cell_type": "code",
      "metadata": {
        "id": "-_9bVUxiVuU-"
      },
      "source": [
        "url = \"https://webscraper.io/test-sites/e-commerce/allinone\"\n",
        "data = requests.get(url).text\n",
        "soup = BeautifulSoup(data, \"html5lib\")"
      ],
      "execution_count": null,
      "outputs": []
    },
    {
      "cell_type": "markdown",
      "source": [
        "Let's say we want the title of the page then we will use the tag class to do so"
      ],
      "metadata": {
        "id": "jNHaNQdKPs9_"
      }
    },
    {
      "cell_type": "code",
      "source": [
        "# initialize a dataframe to store the data \n",
        "product_data = pd.DataFrame(columns=[\"Product Name\", \"Product Image URL\" , \"Product Price\", \"Product Description\", \"Product Reviews Count\", \"Product Stars Count\"])\n",
        "\n",
        "cards = soup.findAll(class_ = \"col-sm-4 col-lg-4 col-md-4\")\n",
        "\n",
        "for div in cards:\n",
        "  product_name = div.find(attrs={'class' : 'title'}).text\n",
        "\n",
        "  # Look into this how to fetch\n",
        "  # product_detail_url = div.findAll('a', href=True)['href']\n",
        "\n",
        "  product_image = url + str(div.find(attrs={'class' : 'img-responsive'})['src'])\n",
        "  product_price = div.find(attrs={'class' : 'pull-right price'}).text\n",
        "  product_description = div.find(attrs={'class' : 'description'}).text\n",
        "  rating_div = div.find(attrs={'class' : 'ratings'})\n",
        "  product_reviews = rating_div.find(attrs={'class' : 'pull-right'}).text\n",
        "  product_stars = str(div.findAll('p')[2])[16:17]\n",
        "\n",
        "  # append the data that you get \n",
        "  product_data = product_data.append({\"Product Name\":product_name, \"Product Image URL\":product_image, \"Product Price\":product_price, \"Product Description\":product_description, \"Product Reviews Count\":product_reviews, \"Product Stars Count\":product_stars}, ignore_index=True)\n",
        "\n",
        "product_data\n",
        "\n",
        "\n",
        "  \n",
        "  "
      ],
      "metadata": {
        "colab": {
          "base_uri": "https://localhost:8080/",
          "height": 143
        },
        "id": "3bAg0snBPyp8",
        "outputId": "46d75169-8d5a-45b6-eeaa-0936dd7de8d3"
      },
      "execution_count": 56,
      "outputs": [
        {
          "output_type": "execute_result",
          "data": {
            "text/html": [
              "\n",
              "  <div id=\"df-7ec619f4-8dc1-4fe6-b8bf-6635317c2512\">\n",
              "    <div class=\"colab-df-container\">\n",
              "      <div>\n",
              "<style scoped>\n",
              "    .dataframe tbody tr th:only-of-type {\n",
              "        vertical-align: middle;\n",
              "    }\n",
              "\n",
              "    .dataframe tbody tr th {\n",
              "        vertical-align: top;\n",
              "    }\n",
              "\n",
              "    .dataframe thead th {\n",
              "        text-align: right;\n",
              "    }\n",
              "</style>\n",
              "<table border=\"1\" class=\"dataframe\">\n",
              "  <thead>\n",
              "    <tr style=\"text-align: right;\">\n",
              "      <th></th>\n",
              "      <th>Product Name</th>\n",
              "      <th>Product Image URL</th>\n",
              "      <th>Product Price</th>\n",
              "      <th>Product Description</th>\n",
              "      <th>Product Reviews Count</th>\n",
              "      <th>Product Stars Count</th>\n",
              "    </tr>\n",
              "  </thead>\n",
              "  <tbody>\n",
              "    <tr>\n",
              "      <th>0</th>\n",
              "      <td>Aspire E1-510</td>\n",
              "      <td>https://webscraper.io/test-sites/e-commerce/al...</td>\n",
              "      <td>$306.99</td>\n",
              "      <td>15.6\", Pentium N3520 2.16GHz, 4GB, 500GB, Linux</td>\n",
              "      <td>2 reviews</td>\n",
              "      <td>3</td>\n",
              "    </tr>\n",
              "    <tr>\n",
              "      <th>1</th>\n",
              "      <td>ThinkPad X230</td>\n",
              "      <td>https://webscraper.io/test-sites/e-commerce/al...</td>\n",
              "      <td>$1244.99</td>\n",
              "      <td>12.5\", Core i5 2.6GHz, 8GB, 180GB SSD, Win7 Pr...</td>\n",
              "      <td>10 reviews</td>\n",
              "      <td>3</td>\n",
              "    </tr>\n",
              "    <tr>\n",
              "      <th>2</th>\n",
              "      <td>Lenovo ThinkPad...</td>\n",
              "      <td>https://webscraper.io/test-sites/e-commerce/al...</td>\n",
              "      <td>$1349.23</td>\n",
              "      <td>Lenovo ThinkPad T470, 14\" FHD IPS, Core i5-720...</td>\n",
              "      <td>5 reviews</td>\n",
              "      <td>1</td>\n",
              "    </tr>\n",
              "  </tbody>\n",
              "</table>\n",
              "</div>\n",
              "      <button class=\"colab-df-convert\" onclick=\"convertToInteractive('df-7ec619f4-8dc1-4fe6-b8bf-6635317c2512')\"\n",
              "              title=\"Convert this dataframe to an interactive table.\"\n",
              "              style=\"display:none;\">\n",
              "        \n",
              "  <svg xmlns=\"http://www.w3.org/2000/svg\" height=\"24px\"viewBox=\"0 0 24 24\"\n",
              "       width=\"24px\">\n",
              "    <path d=\"M0 0h24v24H0V0z\" fill=\"none\"/>\n",
              "    <path d=\"M18.56 5.44l.94 2.06.94-2.06 2.06-.94-2.06-.94-.94-2.06-.94 2.06-2.06.94zm-11 1L8.5 8.5l.94-2.06 2.06-.94-2.06-.94L8.5 2.5l-.94 2.06-2.06.94zm10 10l.94 2.06.94-2.06 2.06-.94-2.06-.94-.94-2.06-.94 2.06-2.06.94z\"/><path d=\"M17.41 7.96l-1.37-1.37c-.4-.4-.92-.59-1.43-.59-.52 0-1.04.2-1.43.59L10.3 9.45l-7.72 7.72c-.78.78-.78 2.05 0 2.83L4 21.41c.39.39.9.59 1.41.59.51 0 1.02-.2 1.41-.59l7.78-7.78 2.81-2.81c.8-.78.8-2.07 0-2.86zM5.41 20L4 18.59l7.72-7.72 1.47 1.35L5.41 20z\"/>\n",
              "  </svg>\n",
              "      </button>\n",
              "      \n",
              "  <style>\n",
              "    .colab-df-container {\n",
              "      display:flex;\n",
              "      flex-wrap:wrap;\n",
              "      gap: 12px;\n",
              "    }\n",
              "\n",
              "    .colab-df-convert {\n",
              "      background-color: #E8F0FE;\n",
              "      border: none;\n",
              "      border-radius: 50%;\n",
              "      cursor: pointer;\n",
              "      display: none;\n",
              "      fill: #1967D2;\n",
              "      height: 32px;\n",
              "      padding: 0 0 0 0;\n",
              "      width: 32px;\n",
              "    }\n",
              "\n",
              "    .colab-df-convert:hover {\n",
              "      background-color: #E2EBFA;\n",
              "      box-shadow: 0px 1px 2px rgba(60, 64, 67, 0.3), 0px 1px 3px 1px rgba(60, 64, 67, 0.15);\n",
              "      fill: #174EA6;\n",
              "    }\n",
              "\n",
              "    [theme=dark] .colab-df-convert {\n",
              "      background-color: #3B4455;\n",
              "      fill: #D2E3FC;\n",
              "    }\n",
              "\n",
              "    [theme=dark] .colab-df-convert:hover {\n",
              "      background-color: #434B5C;\n",
              "      box-shadow: 0px 1px 3px 1px rgba(0, 0, 0, 0.15);\n",
              "      filter: drop-shadow(0px 1px 2px rgba(0, 0, 0, 0.3));\n",
              "      fill: #FFFFFF;\n",
              "    }\n",
              "  </style>\n",
              "\n",
              "      <script>\n",
              "        const buttonEl =\n",
              "          document.querySelector('#df-7ec619f4-8dc1-4fe6-b8bf-6635317c2512 button.colab-df-convert');\n",
              "        buttonEl.style.display =\n",
              "          google.colab.kernel.accessAllowed ? 'block' : 'none';\n",
              "\n",
              "        async function convertToInteractive(key) {\n",
              "          const element = document.querySelector('#df-7ec619f4-8dc1-4fe6-b8bf-6635317c2512');\n",
              "          const dataTable =\n",
              "            await google.colab.kernel.invokeFunction('convertToInteractive',\n",
              "                                                     [key], {});\n",
              "          if (!dataTable) return;\n",
              "\n",
              "          const docLinkHtml = 'Like what you see? Visit the ' +\n",
              "            '<a target=\"_blank\" href=https://colab.research.google.com/notebooks/data_table.ipynb>data table notebook</a>'\n",
              "            + ' to learn more about interactive tables.';\n",
              "          element.innerHTML = '';\n",
              "          dataTable['output_type'] = 'display_data';\n",
              "          await google.colab.output.renderOutput(dataTable, element);\n",
              "          const docLink = document.createElement('div');\n",
              "          docLink.innerHTML = docLinkHtml;\n",
              "          element.appendChild(docLink);\n",
              "        }\n",
              "      </script>\n",
              "    </div>\n",
              "  </div>\n",
              "  "
            ],
            "text/plain": [
              "         Product Name  ... Product Stars Count\n",
              "0       Aspire E1-510  ...                   3\n",
              "1       ThinkPad X230  ...                   3\n",
              "2  Lenovo ThinkPad...  ...                   1\n",
              "\n",
              "[3 rows x 6 columns]"
            ]
          },
          "metadata": {},
          "execution_count": 56
        }
      ]
    }
  ]
}